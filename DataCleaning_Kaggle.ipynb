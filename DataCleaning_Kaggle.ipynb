{
 "cells": [
  {
   "cell_type": "code",
   "execution_count": null,
   "metadata": {},
   "outputs": [],
   "source": [
    "# Handling missing values \n",
    "import pandas ad pd\n",
    "import numpy as np\n",
    "\n",
    "# read the data\n",
    "data = pd.read_csv(\"link file\")\n",
    "\n",
    "# set up seed for reproducibility \n",
    "np.random.seed(1)\n",
    "\n",
    "# look at the first five rows\n",
    "data.head()\n",
    "\n",
    "# get the number of missing data\n",
    "missing_data_count = data_isnull().sum()\n",
    "\n",
    "# look at the # of missing points in the first ten columns\n",
    "missing_data_count[0:10]\n",
    "\n",
    "# percentage of missing data\n",
    "\n",
    "total_cells = np.product(data.shape)\n",
    "total_missing = missing_data_count.sum()\n",
    "\n",
    "percent_missing = (total_missing/total_cell) * 100\n",
    "\n",
    "# Next step, should check if missing data was not recorded or it does not exist?\n",
    "'''The best way is reading throughout the data, understand the features, decide the best way to deal with missing data '''\n",
    "\n",
    "# remove all the rows contain a missing value; all columns remain\n",
    "data.dropna()\n",
    "\n",
    "# remove all columns contain a missing value; all rows remain\n",
    "column_drop = data.dropna(axis=1)\n",
    "\n",
    "# check how many column drop\n",
    "print(data.shape[1] -column_drop.shape[1])\n",
    "\n",
    "# replace all NA's with 0\n",
    "data.fillna(0)\n",
    "\n"
   ]
  },
  {
   "cell_type": "code",
   "execution_count": null,
   "metadata": {},
   "outputs": [],
   "source": [
    "# Scaling and Normalization\n",
    "\n",
    "'''in scaling, you're changing the range of your data, while\n",
    "in normalization, you're changing the shape of the distribution of your data.'''"
   ]
  }
 ],
 "metadata": {
  "kernelspec": {
   "display_name": "Python 3",
   "language": "python",
   "name": "python3"
  },
  "language_info": {
   "codemirror_mode": {
    "name": "ipython",
    "version": 3
   },
   "file_extension": ".py",
   "mimetype": "text/x-python",
   "name": "python",
   "nbconvert_exporter": "python",
   "pygments_lexer": "ipython3",
   "version": "3.7.4"
  }
 },
 "nbformat": 4,
 "nbformat_minor": 2
}
